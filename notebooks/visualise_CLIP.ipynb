{
 "cells": [
  {
   "cell_type": "markdown",
   "id": "115a2f4a",
   "metadata": {
    "id": "115a2f4a"
   },
   "source": [
    "# Visualising the embedding space of CLIP\n",
    "\n",
    "This notebook visualises the PCA- or t-SNE- transformed embedding space of CLIP for two settings:\n",
    "* vanilla: visualising unrelated 10 image and 10 object category embeddings,\n",
    "* best_match: visualising the best-matching image and object category pair for a specific image.\n",
    "\n",
    "Note: We assume that you have caches these files, in their corresponding directory:\n",
    "* image embeddings dictionary (keys=image ids, values=image embeddings): '../data/cache/image_emb.pickle'\n",
    "* object embeddings numpy array: '../data/cache/object_emb.npy'\n",
    "* object names text file: '../data/cache/object_texts.txt'\n",
    "* places names text file: '../data/cache/place_texts.txt'"
   ]
  },
  {
   "cell_type": "markdown",
   "id": "60819da6",
   "metadata": {},
   "source": [
    "### Set-up"
   ]
  },
  {
   "cell_type": "code",
   "execution_count": 1,
   "id": "c600be28",
   "metadata": {},
   "outputs": [],
   "source": [
    "# Loading the required packages\n",
    "import numpy as np\n",
    "import pickle\n",
    "import matplotlib.pyplot as plt\n",
    "from mpl_toolkits import mplot3d\n",
    "import random\n",
    "%matplotlib inline\n",
    "# If you want to view plots interactively, please uncomment the following line\n",
    "# %matplotlib notebook \n",
    "\n",
    "# Analysis-specific packages\n",
    "from sklearn.decomposition import PCA\n",
    "from sklearn.manifold import TSNE"
   ]
  },
  {
   "cell_type": "markdown",
   "id": "9eb69b06",
   "metadata": {},
   "source": [
    "### Loading image and object embeddings"
   ]
  },
  {
   "cell_type": "code",
   "execution_count": 2,
   "id": "9b645997",
   "metadata": {},
   "outputs": [],
   "source": [
    "# Image embeddings\n",
    "img_emb_path = '../data/cache/image_emb.pickle'\n",
    "\n",
    "with open(img_emb_path, 'rb') as f:\n",
    "    img_emb = pickle.load(f)\n",
    "\n",
    "clip_feat_dim = 768\n",
    "img_feats = np.zeros((len(img_emb.keys()), clip_feat_dim), dtype=np.float32)\n",
    "img_texts = []\n",
    "\n",
    "for ix, (img_id, emb) in enumerate(img_emb.items()):\n",
    "    img_feats[ix, :] = emb\n",
    "    img_texts.append(str(img_id))"
   ]
  },
  {
   "cell_type": "code",
   "execution_count": 3,
   "id": "ff4cf268",
   "metadata": {},
   "outputs": [],
   "source": [
    "# Object category embeddings\n",
    "obj_emb_path = '../data/cache/object_emb.npy'\n",
    "obj_txt_path = '../data/cache/object_texts.txt'\n",
    "plc_txt_path = '../data/cache/place_texts.txt'\n",
    "\n",
    "object_feats = np.load(obj_emb_path)\n",
    "with open(obj_txt_path) as fid:\n",
    "    object_texts = fid.readlines()\n",
    "with open(plc_txt_path) as fid:\n",
    "    place_texts = fid.readlines()   \n",
    "\n",
    "# Remove redundant categories\n",
    "object_texts = [o for o in list(set(object_texts)) if o not in place_texts] "
   ]
  },
  {
   "cell_type": "markdown",
   "id": "3c4f43fc",
   "metadata": {},
   "source": [
    "### Choose approach"
   ]
  },
  {
   "cell_type": "code",
   "execution_count": 4,
   "id": "5f-uLOUeLXSe",
   "metadata": {
    "id": "5f-uLOUeLXSe"
   },
   "outputs": [],
   "source": [
    "approach = 'best_match'\n",
    "# approach = 'best_match'"
   ]
  },
  {
   "cell_type": "markdown",
   "id": "tOr_4z4FF4Tv",
   "metadata": {
    "id": "tOr_4z4FF4Tv"
   },
   "source": [
    "# PCA and t-SNE on the embedding space of CLIP corresponding to object embeddings \n",
    "* For now the first 100 objects only"
   ]
  },
  {
   "cell_type": "code",
   "execution_count": 5,
   "id": "91f54b1a",
   "metadata": {},
   "outputs": [],
   "source": [
    "# A helper function to store colors for plots\n",
    "\n",
    "# Generate a list of n random colors\n",
    "def generate_colors(n):\n",
    "    '''This function generates a list of colors'''\n",
    "    colors = []\n",
    "    for _ in range(10):\n",
    "        # Generate a random RGB value for each color\n",
    "        r = random.random()\n",
    "        g = random.random()\n",
    "        b = random.random()\n",
    "        color = (r, g, b)\n",
    "        colors.append(color)\n",
    "    return colors"
   ]
  },
  {
   "cell_type": "code",
   "execution_count": 6,
   "id": "-AaaW5atVdWb",
   "metadata": {
    "colab": {
     "base_uri": "https://localhost:8080/"
    },
    "id": "-AaaW5atVdWb",
    "outputId": "38b28299-2c41-4f3d-da56-23f086bc9dc9"
   },
   "outputs": [
    {
     "name": "stdout",
     "output_type": "stream",
     "text": [
      "(20, 768)\n"
     ]
    }
   ],
   "source": [
    "# Step 1: Have relevant CLIP embeddings for the image and object data\n",
    "\n",
    "# Consider possibly unrelated images and words\n",
    "if approach == 'vanilla':\n",
    "    # Choose number of images/object categories to plot\n",
    "    n = 25\n",
    "    \n",
    "    # Every row is an embedding vector of one object or image\n",
    "    embeddings = np.vstack((object_feats[:n, :], img_feats[:n, :]))\n",
    "    items_to_analyse = object_texts[:n] + img_texts[:n]\n",
    "    \n",
    "    # Color-wise, there are 10 images and then 10 objects \n",
    "    cols = n*['blue'] + n*['orange']\n",
    "\n",
    "    \n",
    "# Consider images with a best match words\n",
    "elif approach == 'best_match':\n",
    "    # Choose number of images/object categories to plot\n",
    "    n = 10\n",
    "    \n",
    "    # Color-wise, there are 10 images and then 10 objects\n",
    "    cols = generate_colors(n)\n",
    "    cols = cols + cols\n",
    "    \n",
    "    embeddings = img_feats[:n, :]\n",
    "    items_to_analyse = img_texts[:n]\n",
    "\n",
    "    # ixs = np.random.choice(img_feats.shape[0], n)\n",
    "    # print(ixs)\n",
    "\n",
    "    for ix in range(n):\n",
    "        results_vec = object_feats @ img_feats[ix].T\n",
    "        best_match_ix = np.where(results_vec == sorted(results_vec, reverse=True)[0])\n",
    "        best_match_ix = int(best_match_ix[0])\n",
    "        embeddings = np.vstack((embeddings, object_feats[best_match_ix, :].squeeze()))\n",
    "        items_to_analyse.append(object_texts[best_match_ix])  \n",
    "\n",
    "# Check whether the dims are correct\n",
    "print(embeddings.shape)"
   ]
  },
  {
   "cell_type": "code",
   "execution_count": 7,
   "id": "DKdSJhdhXB_H",
   "metadata": {
    "colab": {
     "base_uri": "https://localhost:8080/"
    },
    "id": "DKdSJhdhXB_H",
    "outputId": "ef8d47f2-ba94-4de0-a70c-111163487617"
   },
   "outputs": [
    {
     "name": "stdout",
     "output_type": "stream",
     "text": [
      "[[ 0.87758714  0.8083599   0.5277441   0.32528874]\n",
      " [-0.4128633   1.4629568  -0.3174339  -0.33287498]\n",
      " [ 0.0061339   0.7023102   0.26391828  0.05278116]\n",
      " [ 0.42188016 -0.24673657  0.4838357  -0.884719  ]]\n"
     ]
    }
   ],
   "source": [
    "# Step 2: Normalize the embeddings\n",
    "normalized_embeddings = (embeddings - np.mean(embeddings, axis=0)) / np.std(embeddings, axis=0)\n",
    "\n",
    "# Sample print\n",
    "print(normalized_embeddings[:4, :4])"
   ]
  },
  {
   "cell_type": "code",
   "execution_count": 12,
   "id": "62UBKd6GXCDp",
   "metadata": {
    "id": "62UBKd6GXCDp"
   },
   "outputs": [],
   "source": [
    "# Step 3: Choose the number of dimensions\n",
    "num_dimensions = 2"
   ]
  },
  {
   "cell_type": "code",
   "execution_count": 13,
   "id": "75TIc347XCGe",
   "metadata": {
    "colab": {
     "base_uri": "https://localhost:8080/"
    },
    "id": "75TIc347XCGe",
    "outputId": "64f8e74d-bad8-4e89-d6f2-ff837b5783ef"
   },
   "outputs": [
    {
     "name": "stdout",
     "output_type": "stream",
     "text": [
      "Performing t-SNE...\n"
     ]
    }
   ],
   "source": [
    "# Step 4: Perform PCA or t-SNE\n",
    "if num_dimensions == 2:\n",
    "    print('Performing t-SNE...')\n",
    "\n",
    "    # Use t-SNE for 2D visualization\n",
    "    tsne = TSNE(n_components=num_dimensions, perplexity=5.0)\n",
    "    reduced_embeddings = tsne.fit_transform(normalized_embeddings)\n",
    "else:\n",
    "    print('Performing PCA...')\n",
    "\n",
    "    # Use PCA for higher-dimensional visualization\n",
    "    pca = PCA(n_components=num_dimensions)\n",
    "    reduced_embeddings = pca.fit_transform(normalized_embeddings)"
   ]
  },
  {
   "cell_type": "code",
   "execution_count": 14,
   "id": "LC-XqH_9YGp5",
   "metadata": {
    "colab": {
     "base_uri": "https://localhost:8080/",
     "height": 472
    },
    "id": "LC-XqH_9YGp5",
    "outputId": "3811c308-2c75-4984-e462-0d5a326056b1",
    "scrolled": false
   },
   "outputs": [
    {
     "data": {
      "image/png": "[encoded data removed]",
      "text/plain": [
       "<Figure size 640x480 with 1 Axes>"
      ]
     },
     "metadata": {},
     "output_type": "display_data"
    }
   ],
   "source": [
    "# # Step 5: Visualize the results (2D)\n",
    "if num_dimensions == 2:\n",
    "    plt.scatter(reduced_embeddings[:, 0], reduced_embeddings[:, 1], c=cols)\n",
    "\n",
    "    # Annotate the plot with the labels\n",
    "    for i, label in enumerate(items_to_analyse):\n",
    "        plt.annotate(label, (reduced_embeddings[i, 0], reduced_embeddings[i, 1]))\n",
    "\n",
    "    # Add labels and title to the plot\n",
    "    plt.xlabel('Component 1')\n",
    "    plt.ylabel('Component 2')\n",
    "    plt.title('t-SNE Visualization')\n",
    "\n",
    "    plt.show()"
   ]
  },
  {
   "cell_type": "code",
   "execution_count": 15,
   "id": "qMNt5XRKYcVv",
   "metadata": {
    "colab": {
     "base_uri": "https://localhost:8080/",
     "height": 807
    },
    "id": "qMNt5XRKYcVv",
    "outputId": "a3c952bf-78f0-4b1b-959c-150314d4078d",
    "scrolled": false
   },
   "outputs": [],
   "source": [
    "# Step 5: Visualize the results (3D)\n",
    "if num_dimensions != 2:\n",
    "\n",
    "    fig = plt.figure(figsize=(10,10))\n",
    "    ax = plt.axes(projection='3d')\n",
    "\n",
    "    # Data for three-dimensional scattered points\n",
    "    xdata = reduced_embeddings[:, 0]\n",
    "    ydata = reduced_embeddings[:, 1]\n",
    "    zdata = reduced_embeddings[:, 2]\n",
    "    ax.scatter3D(xdata, ydata, zdata, c=cols)\n",
    "    ax.set_xlabel('x')\n",
    "    ax.set_ylabel('y')\n",
    "    ax.set_zlabel('z')\n",
    "\n",
    "\n",
    "    for i, text in enumerate(items_to_analyse):\n",
    "        ax.text(reduced_embeddings[i, 0], reduced_embeddings[i, 1], reduced_embeddings[i, 2], text, fontsize=7)"
   ]
  },
  {
   "cell_type": "markdown",
   "id": "Y1m_bl9Kwex6",
   "metadata": {
    "id": "Y1m_bl9Kwex6"
   },
   "source": [
    "Working with PCA or t-SNE would probably require us to set some threshold on the similarity between two words to determine whether they are synonyms:\n",
    "* For example by taking dot product/cosine similarities between the embeddings of the two objects.\n",
    "\n",
    "\\\n",
    "           \n",
    "1. One way out of this is to perform clustering (k-means/Gaussian mixtures)\n",
    "    * Drawback: need to set k, and this would have to be informed by the dataset for the objects/places we are using\n",
    "\n",
    "\\\n",
    "\n",
    "2. Another possibility would be to not do a PCA or t-SNE but instead do a search through the combinations of the first n most fitting descriptor words and pick one combination that would produce the highest similarity with the image\n",
    "    * Brute-force search: computationally intensive\n",
    "    * Searching among the centroids created by clustering the objects\n",
    "\n",
    "\\\n",
    "\n",
    "This method could not work for images that contain a lot of similar objects (say, three different kinds of fruit), since we would filter similar words being captioned simultaneously."
   ]
  },
  {
   "cell_type": "code",
   "execution_count": null,
   "id": "chra0MZ-KaHe",
   "metadata": {
    "id": "chra0MZ-KaHe"
   },
   "outputs": [],
   "source": []
  },
  {
   "cell_type": "code",
   "execution_count": null,
   "id": "UbaLxgaMYcaF",
   "metadata": {
    "id": "UbaLxgaMYcaF"
   },
   "outputs": [],
   "source": []
  },
  {
   "cell_type": "code",
   "execution_count": null,
   "id": "4mDTUMZ3YccL",
   "metadata": {
    "id": "4mDTUMZ3YccL"
   },
   "outputs": [],
   "source": []
  },
  {
   "cell_type": "code",
   "execution_count": null,
   "id": "05NL5ef7Ycei",
   "metadata": {
    "id": "05NL5ef7Ycei"
   },
   "outputs": [],
   "source": []
  },
  {
   "cell_type": "code",
   "execution_count": null,
   "id": "37c55d42",
   "metadata": {},
   "outputs": [],
   "source": []
  }
 ],
 "metadata": {
  "accelerator": "GPU",
  "colab": {
   "gpuType": "T4",
   "provenance": []
  },
  "gpuClass": "standard",
  "kernelspec": {
   "display_name": "Python 3 (ipykernel)",
   "language": "python",
   "name": "python3"
  },
  "language_info": {
   "codemirror_mode": {
    "name": "ipython",
    "version": 3
   },
   "file_extension": ".py",
   "mimetype": "text/x-python",
   "name": "python",
   "nbconvert_exporter": "python",
   "pygments_lexer": "ipython3",
   "version": "3.9.16"
  }
 },
 "nbformat": 4,
 "nbformat_minor": 5
}
