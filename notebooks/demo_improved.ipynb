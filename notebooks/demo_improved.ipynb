{
 "cells": [
  {
   "cell_type": "markdown",
   "id": "b8b9511a",
   "metadata": {},
   "source": [
    "# SocraticFlanT5 - Improved"
   ]
  },
  {
   "cell_type": "markdown",
   "id": "ed74a311",
   "metadata": {},
   "source": [
    "## Introduction"
   ]
  },
  {
   "cell_type": "markdown",
   "id": "8ff717b4",
   "metadata": {},
   "source": [
    "In this notebook, we propose a new method to obtain image captions via the Socratic method.\n",
    "This is an improved pipeline that has for goal to generate similar or improved captions using open-source and free models."
   ]
  },
  {
   "cell_type": "markdown",
   "id": "4b3c510a",
   "metadata": {},
   "source": [
    "## Imports"
   ]
  },
  {
   "cell_type": "code",
   "execution_count": 1,
   "id": "f5a939ce",
   "metadata": {},
   "outputs": [
    {
     "ename": "ImportError",
     "evalue": "cannot import name 'ImageCaptionerImprovedExtended' from 'scripts.coco_captioning_improved' (/Users/milenakapralova/Documents/DL2/socraticmodels/notebooks/../scripts/coco_captioning_improved.py)",
     "output_type": "error",
     "traceback": [
      "\u001B[0;31m---------------------------------------------------------------------------\u001B[0m",
      "\u001B[0;31mImportError\u001B[0m                               Traceback (most recent call last)",
      "Cell \u001B[0;32mIn[1], line 16\u001B[0m\n\u001B[1;32m     14\u001B[0m \u001B[38;5;28;01mexcept\u001B[39;00m:\n\u001B[1;32m     15\u001B[0m     \u001B[38;5;28;01mpass\u001B[39;00m\n\u001B[0;32m---> 16\u001B[0m \u001B[38;5;28;01mfrom\u001B[39;00m \u001B[38;5;21;01mscripts\u001B[39;00m\u001B[38;5;21;01m.\u001B[39;00m\u001B[38;5;21;01mcoco_captioning_improved\u001B[39;00m \u001B[38;5;28;01mimport\u001B[39;00m ImageCaptionerImprovedExtended\n",
      "\u001B[0;31mImportError\u001B[0m: cannot import name 'ImageCaptionerImprovedExtended' from 'scripts.coco_captioning_improved' (/Users/milenakapralova/Documents/DL2/socraticmodels/notebooks/../scripts/coco_captioning_improved.py)"
     ]
    }
   ],
   "source": [
    "# Package loading\n",
    "from transformers import set_seed\n",
    "import os\n",
    "import numpy as np\n",
    "import pandas as pd\n",
    "import matplotlib.pyplot as plt\n",
    "\n",
    "# Local imports\n",
    "import sys\n",
    "\n",
    "sys.path.append('..')\n",
    "try:\n",
    "    os.chdir('scripts')\n",
    "except:\n",
    "    pass\n",
    "from scripts.coco_captioning_improved import ImageCaptionerImprovedExtended"
   ]
  },
  {
   "cell_type": "markdown",
   "id": "e28928b4",
   "metadata": {},
   "source": [
    "## Instantiate the improved captioner class"
   ]
  },
  {
   "cell_type": "code",
   "execution_count": null,
   "id": "3278cc9c",
   "metadata": {
    "pycharm": {
     "is_executing": true
    }
   },
   "outputs": [],
   "source": [
    "image_captioner = ImageCaptionerImprovedExtended(set_type='demo')"
   ]
  },
  {
   "cell_type": "markdown",
   "id": "f73f34fd",
   "metadata": {},
   "source": [
    "## Run main"
   ]
  },
  {
   "cell_type": "code",
   "execution_count": null,
   "id": "455043c9",
   "metadata": {
    "pycharm": {
     "is_executing": true
    }
   },
   "outputs": [],
   "source": [
    "image_captioner.main()"
   ]
  },
  {
   "cell_type": "markdown",
   "id": "d6aa36cd",
   "metadata": {},
   "source": [
    "## Load image and compute image embedding"
   ]
  },
  {
   "cell_type": "code",
   "execution_count": null,
   "id": "ebbb5c81",
   "metadata": {
    "scrolled": false
   },
   "outputs": [],
   "source": [
    "image_folder = '../data/images/example_images/'\n",
    "# Show the image\n",
    "for img_name in image_captioner.image_manager.demo_names:\n",
    "    print(f'{img_name}:')\n",
    "    plt.imshow(image_captioner.image_manager.load_image(image_folder + img_name))\n",
    "    plt.show()\n",
    "    cond = image_captioner.generated_caption_df['image_name'] == image_folder + img_name\n",
    "    generate_caption = image_captioner.generated_caption_df[cond]['generated_caption'].iloc[0]\n",
    "    print(f'generate caption: \"{generate_caption}\"\\n')\n",
    "    print('====================================\\n')"
   ]
  }
 ],
 "metadata": {
  "kernelspec": {
   "display_name": "Python 3 (ipykernel)",
   "language": "python",
   "name": "python3"
  },
  "language_info": {
   "codemirror_mode": {
    "name": "ipython",
    "version": 3
   },
   "file_extension": ".py",
   "mimetype": "text/x-python",
   "name": "python",
   "nbconvert_exporter": "python",
   "pygments_lexer": "ipython3",
   "version": "3.9.16"
  }
 },
 "nbformat": 4,
 "nbformat_minor": 5
}
