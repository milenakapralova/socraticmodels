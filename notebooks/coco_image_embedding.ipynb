{
 "cells": [
  {
   "cell_type": "markdown",
   "id": "655ff268",
   "metadata": {},
   "source": [
    "# SocraticFlanT5 - Image Embedding Generation | DL2 Project, May 2023\n",
    "---\n",
    "\n",
    "This notebook computes the embeddings for images of MS COCO and saves them in a `.pickle` file."
   ]
  },
  {
   "cell_type": "markdown",
   "id": "136e331e",
   "metadata": {},
   "source": [
    "## Set-up\n",
    "If you haven't done so already, please activate the corresponding environment by running in the terminal: `conda env create -f environment.yml`. Then type `conda activate socratic`."
   ]
  },
  {
   "cell_type": "markdown",
   "id": "d1503d1d",
   "metadata": {},
   "source": [
    "### Loading the required packages"
   ]
  },
  {
   "cell_type": "code",
   "execution_count": 1,
   "id": "11989003",
   "metadata": {},
   "outputs": [],
   "source": [
    "# Package loading\n",
    "import os\n",
    "import numpy as np\n",
    "import re\n",
    "import pickle\n",
    "import random\n",
    "\n",
    "# Local imports\n",
    "from scripts.image_captioning import ClipManager, ImageManager, VocabManager, LmManager, CocoManager\n",
    "from scripts.utils import get_device"
   ]
  },
  {
   "cell_type": "markdown",
   "id": "6aada75e",
   "metadata": {},
   "source": [
    "## Step 1: Downloading the MS COCO images and annotations"
   ]
  },
  {
   "cell_type": "code",
   "execution_count": 3,
   "id": "898c7e8b",
   "metadata": {},
   "outputs": [],
   "source": [
    "imgs_folder = 'imgs/val2017/'\n",
    "\n",
    "coco_manager = CocoManager()\n",
    "coco_manager.download_data()"
   ]
  },
  {
   "cell_type": "markdown",
   "id": "e19c54da",
   "metadata": {},
   "source": [
    "## Step 2: Generating the captions via the Socratic pipeline\n"
   ]
  },
  {
   "cell_type": "markdown",
   "id": "33aab5ad",
   "metadata": {},
   "source": [
    "### Set the device and instantiate managers"
   ]
  },
  {
   "cell_type": "code",
   "execution_count": 4,
   "id": "25bcac13",
   "metadata": {},
   "outputs": [
    {
     "name": "stdout",
     "output_type": "stream",
     "text": [
      "load_places starting!\n",
      "load_places took 0.0s!\n",
      "load_objects starting!\n",
      "load_objects took 0.0s!\n"
     ]
    }
   ],
   "source": [
    "# Set the device to use\n",
    "device = get_device()\n",
    "\n",
    "# Instantiate the clip manager\n",
    "clip_manager = ClipManager(device)\n",
    "\n",
    "# Instantiate the image manager\n",
    "image_manager = ImageManager()\n",
    "\n",
    "# Instantiate the vocab manager\n",
    "vocab_manager = VocabManager()"
   ]
  },
  {
   "cell_type": "markdown",
   "id": "19f0d924",
   "metadata": {},
   "source": [
    "### Compute place and object features"
   ]
  },
  {
   "cell_type": "code",
   "execution_count": 5,
   "id": "372c21e9",
   "metadata": {},
   "outputs": [],
   "source": [
    "# Calculate the place features\n",
    "if not os.path.exists('cache/place_emb.npy'):\n",
    "    # Calculate the place features\n",
    "    place_emb = clip_manager.get_text_emb([f'Photo of a {p}.' for p in vocab_manager.place_list])\n",
    "    np.save('cache/place_emb.npy', place_emb)\n",
    "else:\n",
    "    place_emb = np.load('cache/place_emb.npy')\n",
    "\n",
    "# Calculate the object features\n",
    "if not os.path.exists('cache/object_emb.npy'):\n",
    "    # Calculate the object features\n",
    "    object_emb = clip_manager.get_text_emb([f'Photo of a {o}.' for o in vocab_manager.object_list])\n",
    "    np.save('cache/object_emb.npy', object_emb)\n",
    "else:\n",
    "    object_emb = np.load('cache/object_emb.npy')"
   ]
  },
  {
   "cell_type": "markdown",
   "id": "59985dbb",
   "metadata": {},
   "source": [
    "### Load images and compute image embedding"
   ]
  },
  {
   "cell_type": "code",
   "execution_count": null,
   "id": "0d44faef",
   "metadata": {},
   "outputs": [],
   "source": [
    "embed_imgs = {}\n",
    "\n",
    "for ix, file_name in enumerate(os.listdir(imgs_folder)): \n",
    "        # Getting image id\n",
    "        file_name_strip = file_name.strip('.jpg')\n",
    "        match = re.search('^0+', file_name_strip)\n",
    "        sequence = match.group(0)\n",
    "        image_id = int(file_name_strip[len(sequence):])\n",
    "\n",
    "        img_path = os.path.join(imgs_folder, file_name)\n",
    "        img = image_manager.load_image(img_path)\n",
    "        img_emb = clip_manager.get_img_emb(img)\n",
    "        img_emb = img_emb.flatten()\n",
    "        embed_imgs[image_id] = img_emb"
   ]
  },
  {
   "cell_type": "markdown",
   "id": "8260f29b",
   "metadata": {},
   "source": [
    "### Save the outputs"
   ]
  },
  {
   "cell_type": "code",
   "execution_count": null,
   "id": "6673b62e",
   "metadata": {},
   "outputs": [],
   "source": [
    "with open('cache/embed_imgs.pickle', 'wb') as handle:\n",
    "        pickle.dump(embed_imgs, handle, protocol=pickle.HIGHEST_PROTOCOL)"
   ]
  },
  {
   "cell_type": "code",
   "execution_count": null,
   "id": "e847ef52",
   "metadata": {},
   "outputs": [],
   "source": []
  }
 ],
 "metadata": {
  "kernelspec": {
   "display_name": "Python 3 (ipykernel)",
   "language": "python",
   "name": "python3"
  },
  "language_info": {
   "codemirror_mode": {
    "name": "ipython",
    "version": 3
   },
   "file_extension": ".py",
   "mimetype": "text/x-python",
   "name": "python",
   "nbconvert_exporter": "python",
   "pygments_lexer": "ipython3",
   "version": "3.9.16"
  }
 },
 "nbformat": 4,
 "nbformat_minor": 5
}
