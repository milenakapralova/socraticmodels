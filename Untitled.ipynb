{
 "cells": [
  {
   "cell_type": "code",
   "execution_count": null,
   "id": "cba8084e",
   "metadata": {},
   "outputs": [],
   "source": [
    "text = \"hello i am milena\"\n",
    "\n",
    "#split text in words\n",
    "word_split = text.split()\n",
    "\n",
    "# function cleanup\n",
    "def cleanup(word):\n",
    "    cleanwordlist = []\n",
    "    for word in word_split:\n",
    "        word_lower = word.lower()\n",
    "        word_clean = word_lower.strip('.?!,:;-_/\\{}<>[]()\"')\n",
    "        cleanwordlist.append(word_clean)\n",
    "    return cleanwordlist\n",
    "\n",
    "cleanwords = cleanup(word_split)\n",
    "\n",
    "# function unique word\n",
    "def text_to_unique_words(text):\n",
    "    unique_words = []\n",
    "    for word in cleanwords:\n",
    "        if word not in unique_words:\n",
    "            unique_words.append(word)\n",
    "    sorted_list = sorted(unique_words)\n",
    "    return sorted_list\n",
    "\n"
   ]
  },
  {
   "cell_type": "code",
   "execution_count": null,
   "id": "f21a0d69",
   "metadata": {},
   "outputs": [],
   "source": [
    "print(*text_to_unique_words(text),sep='\\n')"
   ]
  }
 ],
 "metadata": {
  "kernelspec": {
   "display_name": "Python 3 (ipykernel)",
   "language": "python",
   "name": "python3"
  },
  "language_info": {
   "codemirror_mode": {
    "name": "ipython",
    "version": 3
   },
   "file_extension": ".py",
   "mimetype": "text/x-python",
   "name": "python",
   "nbconvert_exporter": "python",
   "pygments_lexer": "ipython3",
   "version": "3.9.16"
  }
 },
 "nbformat": 4,
 "nbformat_minor": 5
}
